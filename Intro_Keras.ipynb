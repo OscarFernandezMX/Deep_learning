{
 "cells": [
  {
   "cell_type": "markdown",
   "metadata": {
    "editable": true,
    "slideshow": {
     "slide_type": "slide"
    },
    "tags": []
   },
   "source": [
    "# Introducción a Keras"
   ]
  },
  {
   "cell_type": "markdown",
   "metadata": {
    "editable": true,
    "slideshow": {
     "slide_type": "subslide"
    },
    "tags": []
   },
   "source": [
    "## ¿Qué es Keras?\n",
    "\n",
    "<figure>\n",
    "    <center>\n",
    "        <img src = \"Figures/keras.png\" alt = \"Keras\" style = \"width:50%\">\n",
    "        <figcaption>Tensorflow y Keras.<br>Imagen tomada de https://www.luisllamas.es/machine-learning-con-tensorflow-y-keras-en-python/.</figcaption>\n",
    "    </center>\n",
    "</figure>"
   ]
  },
  {
   "cell_type": "markdown",
   "metadata": {
    "editable": true,
    "slideshow": {
     "slide_type": "subslide"
    },
    "tags": []
   },
   "source": [
    "Keras es una biblioteca de redes neuronales de alto nivel escrita en Python que facilita la creación, entrenamiento y evaluación de modelos de redes neuronales de manera rápida y sencilla."
   ]
  },
  {
   "cell_type": "markdown",
   "metadata": {
    "editable": true,
    "slideshow": {
     "slide_type": "subslide"
    },
    "tags": []
   },
   "source": [
    "#### Aspectos clave:"
   ]
  },
  {
   "cell_type": "markdown",
   "metadata": {
    "editable": true,
    "slideshow": {
     "slide_type": "fragment"
    },
    "tags": []
   },
   "source": [
    "- Simplicidad y Facilidad de Uso:\n",
    "Keras está diseñado para ser fácil de entender y utilizar, lo que lo hace ideal para principiantes y expertos por igual. Su sintaxis simple y consistente permite a los desarrolladores crear y experimentar con modelos de redes neuronales de manera eficiente."
   ]
  },
  {
   "cell_type": "markdown",
   "metadata": {
    "editable": true,
    "slideshow": {
     "slide_type": "fragment"
    },
    "tags": []
   },
   "source": [
    "- Modularidad y Flexibilidad:\n",
    "Keras proporciona una API modular que permite construir modelos de redes neuronales de manera modular y flexible. Puedes crear modelos secuenciales, modelos funcionales y modelos personalizados para adaptarse a una variedad de tareas y aplicaciones."
   ]
  },
  {
   "cell_type": "markdown",
   "metadata": {
    "editable": true,
    "slideshow": {
     "slide_type": "fragment"
    },
    "tags": []
   },
   "source": [
    "- Compatibilidad con Múltiples Backends:\n",
    "Keras proporciona una interfaz de alto nivel que es independiente del backend de cálculo. Actualmente, Keras es compatible con varios backends, incluyendo TensorFlow, Microsoft Cognitive Toolkit (CNTK) y Theano, lo que te permite cambiar fácilmente entre diferentes backends según tus necesidades."
   ]
  },
  {
   "cell_type": "markdown",
   "metadata": {
    "editable": true,
    "id": "SVTIeEi5m_e2",
    "slideshow": {
     "slide_type": "fragment"
    },
    "tags": []
   },
   "source": [
    "- Amplia Comunidad y Soporte:\n",
    "Keras cuenta con una gran comunidad de usuarios y desarrolladores que comparten recursos, tutoriales y soluciones a través de foros en línea, grupos de discusión y redes sociales. Esto proporciona un sólido soporte y una fuente de conocimiento para aquellos que están aprendiendo y trabajando con Keras."
   ]
  },
  {
   "cell_type": "markdown",
   "metadata": {
    "editable": true,
    "slideshow": {
     "slide_type": "fragment"
    },
    "tags": []
   },
   "source": [
    "- Integración con TensorFlow:\n",
    "Desde TensorFlow 2.0, Keras se ha convertido en la API de alto nivel predeterminada para TensorFlow, lo que significa que puedes importar Keras directamente desde TensorFlow y aprovechar toda su funcionalidad sin necesidad de instalar Keras por separado."
   ]
  },
  {
   "cell_type": "markdown",
   "metadata": {
    "editable": true,
    "slideshow": {
     "slide_type": "slide"
    },
    "tags": []
   },
   "source": [
    "## Perceptrón multicapa (MLP)"
   ]
  },
  {
   "cell_type": "markdown",
   "metadata": {
    "editable": true,
    "slideshow": {
     "slide_type": "fragment"
    },
    "tags": []
   },
   "source": [
    "Es una red neuronal artificial compuesta por múltiples unidades (perceptrón) dispuestas en un arreglo lineal que forma capas."
   ]
  },
  {
   "cell_type": "markdown",
   "metadata": {
    "editable": true,
    "slideshow": {
     "slide_type": "fragment"
    },
    "tags": []
   },
   "source": [
    "Se trata de una red multicapa alimentada hacia adelante."
   ]
  },
  {
   "cell_type": "markdown",
   "metadata": {
    "editable": true,
    "slideshow": {
     "slide_type": "fragment"
    },
    "tags": []
   },
   "source": [
    "Se emplea para resolver problemas de regresión o clasificación con un entrenamiento supervizado."
   ]
  },
  {
   "cell_type": "markdown",
   "metadata": {
    "editable": true,
    "id": "e1019Nn_n_ZP",
    "slideshow": {
     "slide_type": "subslide"
    },
    "tags": []
   },
   "source": [
    "<figure>\n",
    "    <center>\n",
    "        <img src = \"Figures/mlp.png\" alt = \"MLP\" style = \"width:100%\">\n",
    "        <figcaption>Perceptrón multicapa.<br>Imagen tomada del libro Dive into deep learning de Zhang et al., 2021.</figcaption>\n",
    "    </center>\n",
    "</figure>\n",
    "\n"
   ]
  },
  {
   "cell_type": "markdown",
   "metadata": {
    "editable": true,
    "id": "MyY3NA7Tt4Vq",
    "slideshow": {
     "slide_type": "subslide"
    },
    "tags": []
   },
   "source": [
    "En este tutorial, implementaremos un MLP usando Keras para resolver el problema de clasificación de imágenes del conjunto Fashion-MNIST."
   ]
  },
  {
   "cell_type": "markdown",
   "metadata": {
    "editable": true,
    "slideshow": {
     "slide_type": "slide"
    },
    "tags": []
   },
   "source": [
    "## Fashion-MNIST\n",
    "\n",
    "Es una base de datos de imágenes de artículos de Zalando. Surgió como un reemplazo al tradicional conjunto de dígitos de MNIST."
   ]
  },
  {
   "cell_type": "markdown",
   "metadata": {
    "editable": true,
    "id": "b4_Jt7B6uBQy",
    "slideshow": {
     "slide_type": "subslide"
    },
    "tags": []
   },
   "source": [
    "<figure>\n",
    "    <center>\n",
    "        <img src = \"Figures/fmnist_sample.png\" alt = \"Fashion-MNIST\" style = \"width:100%\">\n",
    "        <figcaption>Ejemplos de imágenes contenidas en Fashion-MNIST.<br>Imagen tomada https://docs.ultralytics.com/es/datasets/classify/fashion-mnist/#dataset-structure.</figcaption>\n",
    "    </center>\n",
    "</figure>"
   ]
  },
  {
   "cell_type": "markdown",
   "metadata": {
    "editable": true,
    "slideshow": {
     "slide_type": "subslide"
    },
    "tags": []
   },
   "source": [
    "#### La partición de este conjunto de datos es la siguiente:\n",
    "\n",
    "1. Conjunto de entrenamiento: contiene 60,000 imágenes.\n",
    "2. Conjunto de pruebas: contiene 10,000."
   ]
  },
  {
   "cell_type": "markdown",
   "metadata": {
    "editable": true,
    "slideshow": {
     "slide_type": "subslide"
    },
    "tags": []
   },
   "source": [
    "#### Las características de este conjunto de datos son las siguientes:\n",
    "\n",
    "* El conjunto de datos contiene imágenes en escala de grises con una dimensión de $28x28$ píxeles.\n",
    "* La intensidad de los píxeles es un valor entero entre 0 y 255.\n",
    "* Fashion-MNIST se utiliza ampliamente para entrenar y probar algoritmos de aprendizaje automático y aprendizaje profundo, especialmente para tareas de clasificación de imágenes."
   ]
  },
  {
   "cell_type": "markdown",
   "metadata": {
    "editable": true,
    "slideshow": {
     "slide_type": "subslide"
    },
    "tags": []
   },
   "source": [
    "#### Las etiquetas son las siguientes:\n",
    "\n",
    "1. Camiseta/top\n",
    "2. Pantalones\n",
    "3. Jersey\n",
    "4. Vestido\n",
    "5. Abrigo\n",
    "6. Sandalia\n",
    "7. Camisa\n",
    "8. Zapatilla\n",
    "9. Bolsa\n",
    "10. Botín"
   ]
  },
  {
   "cell_type": "markdown",
   "metadata": {
    "editable": true,
    "slideshow": {
     "slide_type": "slide"
    },
    "tags": []
   },
   "source": [
    "# ¡Comencemos a programar!"
   ]
  },
  {
   "cell_type": "markdown",
   "metadata": {
    "editable": true,
    "slideshow": {
     "slide_type": "slide"
    },
    "tags": []
   },
   "source": [
    "## Librerías a utilizar\n",
    "\n",
    "Primero importamos las librerías necesarias, entre ellas, `tensorflow`.\n",
    "\n",
    "Como mencionamos anteriormente, Keras está incluido dentro de tensorflow, por lo que no es necesario instalar Keras por separado si ya tenemos tensorflow instalado.\n",
    "\n",
    "En Google Colab, no tenemos que preocuparnos por esto, ya que todas estas librerías ya se encuentran precargadas, no es necesario instalar nada adicional."
   ]
  },
  {
   "cell_type": "code",
   "execution_count": null,
   "metadata": {
    "editable": true,
    "id": "nqa7qHviaCJG",
    "slideshow": {
     "slide_type": "subslide"
    },
    "tags": []
   },
   "outputs": [],
   "source": [
    "import numpy as np\n",
    "import seaborn as sns\n",
    "import pandas as pd\n",
    "import tensorflow as tf\n",
    "import matplotlib.pyplot as plt\n",
    "plt.rcParams[\"figure.dpi\"] = 150\n",
    "from sklearn.model_selection import train_test_split\n",
    "from tensorflow.python import keras\n",
    "from tensorflow.keras import Sequential\n",
    "from tensorflow.keras.layers import Input, Dense\n",
    "from keras import initializers\n",
    "from keras.optimizers import Adam\n",
    "from keras.utils import plot_model"
   ]
  },
  {
   "cell_type": "markdown",
   "metadata": {
    "editable": true,
    "slideshow": {
     "slide_type": "slide"
    },
    "tags": []
   },
   "source": [
    "## Cargamos el conjunto de datos de Fashion-MNIST\n",
    "\n",
    "Keras incluye una colección de bases de datos, entre ellas, podemos encontrar la de Fashion-MNIST, por lo que tampoco es necesario descargarla por separado."
   ]
  },
  {
   "cell_type": "markdown",
   "metadata": {
    "editable": true,
    "slideshow": {
     "slide_type": "subslide"
    },
    "tags": []
   },
   "source": [
    "Como mencionamos anteriormente, este conjunto consiste en 60,000 imágenes para el entrenamiento y 10,000 para prueba.\n",
    "\n",
    "No es necesario realizar esta partición, simplemente asignamos los datos a la variable correspondiente."
   ]
  },
  {
   "cell_type": "code",
   "execution_count": null,
   "metadata": {
    "colab": {
     "base_uri": "https://localhost:8080/"
    },
    "editable": true,
    "id": "fBsEaF-grO1X",
    "outputId": "86690ceb-c77a-432e-c5e5-ff0492cee522",
    "slideshow": {
     "slide_type": "subslide"
    },
    "tags": []
   },
   "outputs": [],
   "source": []
  },
  {
   "cell_type": "code",
   "execution_count": null,
   "metadata": {
    "editable": true,
    "slideshow": {
     "slide_type": "fragment"
    },
    "tags": []
   },
   "outputs": [],
   "source": [
    "# Verificamos que tenemos todos los datos con las dimensiones correctas.\n",
    "print(x_train.shape, x_test.shape)"
   ]
  },
  {
   "cell_type": "markdown",
   "metadata": {
    "editable": true,
    "slideshow": {
     "slide_type": "slide"
    },
    "tags": []
   },
   "source": [
    "## Preprocesamiento de las imágenes\n",
    "\n",
    "Una vez cargado el conjunto de datos, realizamos unas simples, pero importantes tareas de preprocesamiento."
   ]
  },
  {
   "cell_type": "markdown",
   "metadata": {
    "editable": true,
    "slideshow": {
     "slide_type": "fragment"
    },
    "tags": []
   },
   "source": [
    "* Primero, debemos normalizar nuestros datos para que estén en un rango entre 0 y 1. Esto lo logramos dividiendo las imágenes entre 255, que es el valor máximo de intensidad que pueden tomar los píxeles."
   ]
  },
  {
   "cell_type": "markdown",
   "metadata": {
    "editable": true,
    "slideshow": {
     "slide_type": "fragment"
    },
    "tags": []
   },
   "source": [
    "* Otro paso fundamental consiste en amplanar las imágenes. Esto se debe a las características del MLP, ya que la capa de entrada debe recibir los datos en forma de un vector (en el caso de un solo ejemplo). Para esto, redimensionamos las imágenes de $28x28$ a 784 ($28x28 = 784$ píxeles)."
   ]
  },
  {
   "cell_type": "markdown",
   "metadata": {
    "editable": true,
    "slideshow": {
     "slide_type": "fragment"
    },
    "tags": []
   },
   "source": [
    "* Finalmente, debemos representar nuestras etiquetas con one-hot encoding."
   ]
  },
  {
   "cell_type": "markdown",
   "metadata": {
    "editable": true,
    "slideshow": {
     "slide_type": "subslide"
    },
    "tags": []
   },
   "source": [
    "#### ¿Por qué aplanar la imagen?\n",
    "\n",
    "<figure>\n",
    "    <center>\n",
    "        <img src = \"Figures/flatten_img.png\" alt = \"flatten image\" style = \"width:60%\">\n",
    "        <figcaption>Aplanamiento de la imagen para la capa de entrada.<br>Imagen tomada https://towardsdatascience.com/the-most-intuitive-and-easiest-guide-for-convolutional-neural-network-3607be47480.</figcaption>\n",
    "    </center>\n",
    "</figure>"
   ]
  },
  {
   "cell_type": "code",
   "execution_count": null,
   "metadata": {
    "editable": true,
    "id": "LSypj--MuNG1",
    "slideshow": {
     "slide_type": "subslide"
    },
    "tags": []
   },
   "outputs": [],
   "source": [
    "# En Python, podemos hacer esto con ayuda de Numpy y Keras:\n",
    "\n"
   ]
  },
  {
   "cell_type": "markdown",
   "metadata": {
    "editable": true,
    "slideshow": {
     "slide_type": "slide"
    },
    "tags": []
   },
   "source": [
    "## Subconjunto de validación\n",
    "\n",
    "A pesar de que nuestros datos ya se encuentran particionados, todavía necesitamos un conjunto de validación.\n",
    "\n",
    "Este lo obtenemos a partir del conjunto de entrenamiento.\n",
    "\n",
    "En este caso, reservamos el 25\\% para el conjunto de validación."
   ]
  },
  {
   "cell_type": "code",
   "execution_count": null,
   "metadata": {
    "editable": true,
    "id": "L_6tjdj9gywp",
    "slideshow": {
     "slide_type": "subslide"
    },
    "tags": []
   },
   "outputs": [],
   "source": [
    "# Creando el conjunto de validación:\n",
    "\n"
   ]
  },
  {
   "cell_type": "markdown",
   "metadata": {
    "editable": true,
    "id": "ZPVsz6DssUrZ",
    "slideshow": {
     "slide_type": "slide"
    },
    "tags": []
   },
   "source": [
    "## Construcción del modelo con Keras\n",
    "\n",
    "Keras, al ser un framework de alto nivel, nos permite abstraer la implementación de una red neuronal y nos permite diseñar un modelo complejo con unas cuantas líneas de código de manera intuitiva y sencilla."
   ]
  },
  {
   "cell_type": "markdown",
   "metadata": {
    "editable": true,
    "slideshow": {
     "slide_type": "subslide"
    },
    "tags": []
   },
   "source": [
    "### Inicialización del modelo\n",
    "\n",
    "Necesitamos inicializar nuestro modelo como un modelo secuencial con la línea de código:\n",
    "\n",
    "`model = Sequential()`"
   ]
  },
  {
   "cell_type": "markdown",
   "metadata": {
    "editable": true,
    "slideshow": {
     "slide_type": "fragment"
    },
    "tags": []
   },
   "source": [
    "Hasta este punto, hemos inicializado nuestro modelo, pero todavía no tiene capas.\n",
    "\n",
    "Vamos a agregarlas."
   ]
  },
  {
   "cell_type": "markdown",
   "metadata": {
    "editable": true,
    "slideshow": {
     "slide_type": "subslide"
    },
    "tags": []
   },
   "source": [
    "Primero definimos la forma que tendrán las entradas a nuestro modelo con el siguiente código:\n",
    "\n",
    "`model.add(Input(shape = (784,)))`\n",
    "\n",
    "En este caso, la forma de la entrada es una imagen aplanada que consiste en un vector con 784 píxeles."
   ]
  },
  {
   "cell_type": "markdown",
   "metadata": {
    "editable": true,
    "slideshow": {
     "slide_type": "subslide"
    },
    "tags": []
   },
   "source": [
    "Keras tiene diferentes tipos de capas. En este caso, como estamos implementando un MLP, vamos a requerir únicamente la capa `Dense`."
   ]
  },
  {
   "cell_type": "markdown",
   "metadata": {
    "editable": true,
    "slideshow": {
     "slide_type": "subslide"
    },
    "tags": []
   },
   "source": [
    "Para agregar una capa usamos la siguiente sintaxis:\n",
    "\n",
    "```\n",
    "model.add(Dense(\n",
    "    units,\n",
    "    kernel_initializer = initializers.HeNormal(),\n",
    "    activation = \"relu\"))\n",
    "````"
   ]
  },
  {
   "cell_type": "markdown",
   "metadata": {
    "editable": true,
    "slideshow": {
     "slide_type": "fragment"
    },
    "tags": []
   },
   "source": [
    "Donde:\n",
    "\n",
    "* `units` es el número de neuronas que va a tener nuestra capa.\n",
    "* `kernel_initializer` es la función de inicialización de los pesos para esa capa.\n",
    "* `activation` es la función de activación que tendrá cada neurona en dicha capa."
   ]
  },
  {
   "cell_type": "markdown",
   "metadata": {
    "editable": true,
    "slideshow": {
     "slide_type": "fragment"
    },
    "tags": []
   },
   "source": [
    "Recordemos que lo recomendado es usar ReLU como función de activación para capas ocultas.\n",
    "\n",
    "Para la capa de salida, necesitamos Softmax, ya que nuestro problema tiene múltiples clases."
   ]
  },
  {
   "cell_type": "code",
   "execution_count": null,
   "metadata": {
    "editable": true,
    "id": "WeOHZcUzoq8x",
    "slideshow": {
     "slide_type": "subslide"
    },
    "tags": []
   },
   "outputs": [],
   "source": [
    "# Creamos el modelo:\n",
    "\n"
   ]
  },
  {
   "cell_type": "markdown",
   "metadata": {
    "editable": true,
    "slideshow": {
     "slide_type": "subslide"
    },
    "tags": []
   },
   "source": [
    "Podemos obtener la cantidad de parámetros que tiene nuestro modelo usando el método `summary()`."
   ]
  },
  {
   "cell_type": "code",
   "execution_count": null,
   "metadata": {
    "colab": {
     "base_uri": "https://localhost:8080/"
    },
    "editable": true,
    "id": "tXJgRx99p3HV",
    "outputId": "37ada882-03ee-4e3b-af6b-927fb0911720",
    "slideshow": {
     "slide_type": "fragment"
    },
    "tags": []
   },
   "outputs": [],
   "source": [
    "model.summary()"
   ]
  },
  {
   "cell_type": "markdown",
   "metadata": {
    "editable": true,
    "slideshow": {
     "slide_type": "subslide"
    },
    "tags": []
   },
   "source": [
    "Para observar más detalles de nuestro modelo, podemos usar la función `plot_model`."
   ]
  },
  {
   "cell_type": "code",
   "execution_count": null,
   "metadata": {
    "colab": {
     "base_uri": "https://localhost:8080/",
     "height": 369
    },
    "editable": true,
    "id": "xCUbOztxp9Bb",
    "outputId": "9048a091-e2dd-4972-c46e-f3b64772a03c",
    "slideshow": {
     "slide_type": "fragment"
    },
    "tags": []
   },
   "outputs": [],
   "source": [
    "plot_model(model, show_shapes=True, show_dtype=True,\n",
    "           show_layer_names=True, expand_nested=False,\n",
    "           show_layer_activations=True, show_trainable=True)"
   ]
  },
  {
   "cell_type": "markdown",
   "metadata": {
    "editable": true,
    "slideshow": {
     "slide_type": "slide"
    },
    "tags": []
   },
   "source": [
    "## Compilación del modelo\n",
    "\n",
    "Después de crear el modelo, es importante realizar la compilación del mismo para asegurarnos de que no existen errores.\n",
    "\n",
    "Este paso también nos permite establecer el optimizador que emplearemos para ajustar los parámetros, la función de pérdida y la métrica de evaluación del modelo."
   ]
  },
  {
   "cell_type": "markdown",
   "metadata": {
    "editable": true,
    "slideshow": {
     "slide_type": "subslide"
    },
    "tags": []
   },
   "source": [
    "#### Para el optimizador\n",
    "\n",
    "Podemos definir algunos parámetros ya vistos en el curso, como:\n",
    "\n",
    "* Tasa de aprendizaje, $\\alpha$.\n",
    "* Coeficiente para momento, $\\beta_1$.\n",
    "* Coeficiente para la parte de RMSProp, $\\beta_2$.\n",
    "* Hiperparámetro para evitar la división entre cero, $\\epsilon$.\n",
    "* Decaimiento de pesos (regularización L2)."
   ]
  },
  {
   "cell_type": "code",
   "execution_count": null,
   "metadata": {
    "editable": true,
    "slideshow": {
     "slide_type": "subslide"
    },
    "tags": []
   },
   "outputs": [],
   "source": [
    "# Configurando el optimizador:\n",
    "\n"
   ]
  },
  {
   "cell_type": "markdown",
   "metadata": {
    "editable": true,
    "slideshow": {
     "slide_type": "subslide"
    },
    "tags": []
   },
   "source": [
    "Una vez definidos los hiperparámetros del optimizador, compilamos el modelo."
   ]
  },
  {
   "cell_type": "code",
   "execution_count": null,
   "metadata": {
    "editable": true,
    "id": "g2_ZRlTSqJKc",
    "slideshow": {
     "slide_type": "fragment"
    },
    "tags": []
   },
   "outputs": [],
   "source": [
    "# Compilando el modelo:\n",
    "\n"
   ]
  },
  {
   "cell_type": "markdown",
   "metadata": {
    "editable": true,
    "slideshow": {
     "slide_type": "slide"
    },
    "tags": []
   },
   "source": [
    "## Entrenamiento del modelo\n",
    "\n",
    "Una vez compilado el modelo, podemos pasar al entrenamiento.\n",
    "\n",
    "Tenemos que pasar el conjunto de entrenamiento, así como las etiquetas para estas imágenes.\n",
    "\n",
    "Opcionalmente, pasamos el conjunto de validación. Una alternativa para elegir un conjunto de validación, es usar el argumento `validation_split = 0.2`.\n",
    "\n",
    "En esta parte también definimos el tamaño del lote y el número de épocas."
   ]
  },
  {
   "cell_type": "code",
   "execution_count": null,
   "metadata": {
    "colab": {
     "base_uri": "https://localhost:8080/"
    },
    "editable": true,
    "id": "M-z2lZr2qeVJ",
    "outputId": "b32400fd-723a-4cc4-93ad-27b9fefbd8f8",
    "slideshow": {
     "slide_type": "subslide"
    },
    "tags": []
   },
   "outputs": [],
   "source": [
    "# Entrenando el modelo:\n",
    "\n"
   ]
  },
  {
   "cell_type": "markdown",
   "metadata": {
    "editable": true,
    "slideshow": {
     "slide_type": "slide"
    },
    "tags": []
   },
   "source": [
    "### Visualizando el desempeño del modelo\n",
    "\n",
    "Al entrenar el modelo, guardamos la información en la variable `training`. Esto nos permite recuperar la información del historial del entrenamiento y graficarlo para observar el desempeño del modelo."
   ]
  },
  {
   "cell_type": "code",
   "execution_count": null,
   "metadata": {
    "colab": {
     "base_uri": "https://localhost:8080/",
     "height": 432
    },
    "editable": true,
    "id": "9NCKQGfAqlEf",
    "outputId": "605b26da-ca9c-4f4f-c1a2-1c2245f1976d",
    "slideshow": {
     "slide_type": "subslide"
    },
    "tags": []
   },
   "outputs": [],
   "source": [
    "plt.plot(training.history[\"loss\"], label = \"Pérdida de entrenamiento\")\n",
    "plt.plot(training.history[\"val_loss\"], label = \"Pérdida de validación\")\n",
    "plt.legend()\n",
    "plt.title(\"Pérdida en el entrenamiento\")\n",
    "plt.show()"
   ]
  },
  {
   "cell_type": "code",
   "execution_count": null,
   "metadata": {
    "editable": true,
    "slideshow": {
     "slide_type": "subslide"
    },
    "tags": []
   },
   "outputs": [],
   "source": [
    "plt.plot(training.history[\"accuracy\"], label = \"Exactitud de entrenamiento\")\n",
    "plt.plot(training.history[\"val_accuracy\"], label = \"Exactitud de validación\")\n",
    "plt.legend()\n",
    "plt.title(\"Exactitud en el entrenamiento\")\n",
    "plt.show()"
   ]
  },
  {
   "cell_type": "markdown",
   "metadata": {
    "editable": true,
    "slideshow": {
     "slide_type": "slide"
    },
    "tags": []
   },
   "source": [
    "## Haciendo predicciones\n",
    "\n",
    "Una vez entrenado el modelo, podemos usarlo para hacer predicciones.\n",
    "\n",
    "Para esto, simplemente usamos el método `predict` y le pasamos los datos y etiquetas de prueba."
   ]
  },
  {
   "cell_type": "code",
   "execution_count": null,
   "metadata": {
    "editable": true,
    "id": "YTgeDFbLr1vK",
    "slideshow": {
     "slide_type": "fragment"
    },
    "tags": []
   },
   "outputs": [],
   "source": [
    "# Predicciones con el modelo entrenado:\n",
    "\n"
   ]
  },
  {
   "cell_type": "markdown",
   "metadata": {
    "editable": true,
    "slideshow": {
     "slide_type": "subslide"
    },
    "tags": []
   },
   "source": [
    "### Una muestra de los resultados\n",
    "\n",
    "Podemos observar los resultados de una forma más gráfica con el siguiente código."
   ]
  },
  {
   "cell_type": "code",
   "execution_count": null,
   "metadata": {
    "colab": {
     "base_uri": "https://localhost:8080/",
     "height": 1000
    },
    "editable": true,
    "id": "wCv0vUiIqs7m",
    "outputId": "a5791556-02b2-46b4-f62f-2bde29ebdbc2",
    "slideshow": {
     "slide_type": "subslide"
    },
    "tags": []
   },
   "outputs": [],
   "source": [
    "class_names = [\"Camiseta/top\", \"Pantalones\", \"Jersey\", \"Vestido\", \"Abrigo\",\n",
    "               \"Sandalia\", \"Camisa\", \"Zapatilla\", \"Bolsa\", \"Botín\"]\n",
    "\n",
    "test_imgs = X_test.reshape(X_test.shape[0], 28, 28)\n",
    "sample_ids = np.random.choice(X_test.shape[0], size = 12, replace = False)\n",
    "\n",
    "fig, axis = plt.subplots(2, 6, figsize=(18, 8))\n",
    "for i, ax in enumerate(axis.flat):\n",
    "    ax.imshow(test_imgs[sample_ids[i]], cmap = 'binary')\n",
    "    ax.set(title = f\"Etiqueta: {class_names[y_test[sample_ids[i]].argmax()]}\\nPredicción: {class_names[y_pred[sample_ids[i]].argmax()]}\");"
   ]
  },
  {
   "cell_type": "markdown",
   "metadata": {
    "editable": true,
    "slideshow": {
     "slide_type": "slide"
    },
    "tags": []
   },
   "source": [
    "## Evaluando el modelo\n",
    "\n",
    "Finalmente, evaluamos el modelo con el mismo conjunto de prueba usando el método `evaluate`."
   ]
  },
  {
   "cell_type": "code",
   "execution_count": null,
   "metadata": {
    "colab": {
     "base_uri": "https://localhost:8080/"
    },
    "editable": true,
    "id": "RVwunAxKq1Pi",
    "outputId": "3368705e-13d5-4b8a-dd5a-e7fda4af461a",
    "slideshow": {
     "slide_type": "fragment"
    },
    "tags": []
   },
   "outputs": [],
   "source": [
    "# Evaluando el modelo:\n",
    "\n"
   ]
  },
  {
   "cell_type": "code",
   "execution_count": null,
   "metadata": {
    "editable": true,
    "slideshow": {
     "slide_type": "skip"
    },
    "tags": []
   },
   "outputs": [],
   "source": []
  }
 ],
 "metadata": {
  "colab": {
   "collapsed_sections": [
    "x6kMW-wpqhfP"
   ],
   "provenance": []
  },
  "kernelspec": {
   "display_name": "Python 3 (ipykernel)",
   "language": "python",
   "name": "python3"
  },
  "language_info": {
   "codemirror_mode": {
    "name": "ipython",
    "version": 3
   },
   "file_extension": ".py",
   "mimetype": "text/x-python",
   "name": "python",
   "nbconvert_exporter": "python",
   "pygments_lexer": "ipython3",
   "version": "3.10.0"
  }
 },
 "nbformat": 4,
 "nbformat_minor": 4
}
